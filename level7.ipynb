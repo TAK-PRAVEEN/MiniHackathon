{
 "cells": [
  {
   "cell_type": "code",
   "execution_count": 15,
   "metadata": {},
   "outputs": [],
   "source": [
    "import numpy as np\n",
    "import random\n",
    "np.random.seed(42)\n",
    "from datetime import datetime\n"
   ]
  },
  {
   "cell_type": "code",
   "execution_count": 2,
   "metadata": {},
   "outputs": [],
   "source": [
    "num1 = [0,0,0,0]"
   ]
  },
  {
   "cell_type": "code",
   "execution_count": 3,
   "metadata": {},
   "outputs": [],
   "source": [
    "\n",
    "count = True\n",
    "while(count):   \n",
    "    set1 = set()\n",
    "    arr = []\n",
    "    for i in range(1,5):\n",
    "        num_count = random.randint(1, 9)  # Generate a random number of unique numbers\n",
    "        set1.add(num_count)\n",
    "\n",
    "    arr = list(set1)\n",
    "    \n",
    "    if len(arr)==len(num1):\n",
    "        count=False\n"
   ]
  },
  {
   "cell_type": "code",
   "execution_count": 4,
   "metadata": {},
   "outputs": [
    {
     "data": {
      "text/plain": [
       "[8, 1, 6, 7]"
      ]
     },
     "execution_count": 4,
     "metadata": {},
     "output_type": "execute_result"
    }
   ],
   "source": [
    "arr"
   ]
  },
  {
   "cell_type": "markdown",
   "metadata": {},
   "source": [
    "### Level2"
   ]
  },
  {
   "cell_type": "code",
   "execution_count": 22,
   "metadata": {},
   "outputs": [
    {
     "name": "stdout",
     "output_type": "stream",
     "text": [
      "2024-10-18 15:38:10.633440\n"
     ]
    },
    {
     "ename": "ValueError",
     "evalue": "invalid literal for int() with base 10: 't'",
     "output_type": "error",
     "traceback": [
      "\u001b[1;31m---------------------------------------------------------------------------\u001b[0m",
      "\u001b[1;31mValueError\u001b[0m                                Traceback (most recent call last)",
      "Cell \u001b[1;32mIn[22], line 19\u001b[0m\n\u001b[0;32m     17\u001b[0m num1 \u001b[38;5;241m=\u001b[39m []\n\u001b[0;32m     18\u001b[0m \u001b[38;5;28;01mfor\u001b[39;00m i \u001b[38;5;129;01min\u001b[39;00m num:\n\u001b[1;32m---> 19\u001b[0m     num1\u001b[38;5;241m.\u001b[39mappend(\u001b[38;5;28;43mint\u001b[39;49m\u001b[43m(\u001b[49m\u001b[43mi\u001b[49m\u001b[43m)\u001b[49m)\n\u001b[0;32m     20\u001b[0m arr1 \u001b[38;5;241m=\u001b[39m []\n\u001b[0;32m     21\u001b[0m arr2 \u001b[38;5;241m=\u001b[39m []\n",
      "\u001b[1;31mValueError\u001b[0m: invalid literal for int() with base 10: 't'"
     ]
    }
   ],
   "source": [
    "count= 0\n",
    "l = 0\n",
    "duration=180\n",
    "start = datetime.now()\n",
    "s=start.second\n",
    "ty = s + 10\n",
    "print(start)\n",
    "while(count<7) :\n",
    "    if s==ty:\n",
    "        break\n",
    "   \n",
    "    l+=1\n",
    "    yes = True\n",
    "    while(yes):\n",
    "    \n",
    "        num = (input(\"Enter the num:\"))\n",
    "        num1 = []\n",
    "        for i in num:\n",
    "            num1.append(int(i))\n",
    "        arr1 = []\n",
    "        arr2 = []\n",
    "        for k in range(4):\n",
    "            for l in range(4):\n",
    "                if arr[k]==num1[l]:\n",
    "                    arr2.append(arr[k])\n",
    "                    if k==l:\n",
    "                        # print(arr[k],\"index=\",k,l)\n",
    "                        arr1.append(arr[k])\n",
    "\n",
    "        print(len(arr1),\"is at right place,\",len(arr2)-len(arr1), \"is not at right place\")\n",
    "        if arr==num1:\n",
    "            \n",
    "            yes = False\n",
    "            \n",
    "            count = 7\n",
    "\n",
    "    print(f\"Game is over! {l} attempts\")\n",
    "    count+=1\n",
    "   \n",
    "\n",
    "    "
   ]
  },
  {
   "cell_type": "code",
   "execution_count": 26,
   "metadata": {},
   "outputs": [
    {
     "name": "stdout",
     "output_type": "stream",
     "text": [
      "2024-10-18 15:40:56.238772\n",
      "0 is at right place, 1 is not at right place\n"
     ]
    },
    {
     "ename": "ValueError",
     "evalue": "invalid literal for int() with base 10: 'h'",
     "output_type": "error",
     "traceback": [
      "\u001b[1;31m---------------------------------------------------------------------------\u001b[0m",
      "\u001b[1;31mValueError\u001b[0m                                Traceback (most recent call last)",
      "Cell \u001b[1;32mIn[26], line 22\u001b[0m\n\u001b[0;32m     20\u001b[0m \u001b[38;5;28;01mwhile\u001b[39;00m yes:\n\u001b[0;32m     21\u001b[0m     num \u001b[38;5;241m=\u001b[39m \u001b[38;5;28minput\u001b[39m(\u001b[38;5;124m\"\u001b[39m\u001b[38;5;124mEnter the num:\u001b[39m\u001b[38;5;124m\"\u001b[39m)\n\u001b[1;32m---> 22\u001b[0m     num1 \u001b[38;5;241m=\u001b[39m [\u001b[38;5;28;43mint\u001b[39;49m\u001b[43m(\u001b[49m\u001b[43mi\u001b[49m\u001b[43m)\u001b[49m \u001b[38;5;28;01mfor\u001b[39;00m i \u001b[38;5;129;01min\u001b[39;00m num]  \u001b[38;5;66;03m# Convert input string to list of integers\u001b[39;00m\n\u001b[0;32m     23\u001b[0m     arr1 \u001b[38;5;241m=\u001b[39m []\n\u001b[0;32m     24\u001b[0m     arr2 \u001b[38;5;241m=\u001b[39m []\n",
      "\u001b[1;31mValueError\u001b[0m: invalid literal for int() with base 10: 'h'"
     ]
    }
   ],
   "source": [
    "from datetime import datetime, timedelta\n",
    "\n",
    "# Initialize variables\n",
    "count = 0\n",
    "l = 0\n",
    "duration = 10  # Duration in seconds\n",
    "start = datetime.now()  # Get the current time\n",
    "end_time = start + timedelta(seconds=duration)  # Calculate end time\n",
    "\n",
    "print(start)\n",
    "\n",
    "while count < 7:\n",
    "    # Check if the current time exceeds the end time\n",
    "    if datetime.now() >= end_time:\n",
    "        print(\"Time's up! Ending the game.\")\n",
    "        break\n",
    "\n",
    "    l += 1\n",
    "    yes = True\n",
    "    while yes:\n",
    "        num = input(\"Enter the num:\")\n",
    "        num1 = [int(i) for i in num]  # Convert input string to list of integers\n",
    "        arr1 = []\n",
    "        arr2 = []\n",
    "\n",
    "        # Assuming 'arr' is defined somewhere in your code\n",
    "        for k in range(4):\n",
    "            for m in range(4):  # Changed 'l' to 'm' to avoid confusion with outer loop\n",
    "                if arr[k] == num1[m]:\n",
    "                    arr2.append(arr[k])\n",
    "                    if k == m:\n",
    "                        arr1.append(arr[k])\n",
    "\n",
    "        print(len(arr1), \"is at right place,\", len(arr2) - len(arr1), \"is not at right place\")\n",
    "        \n",
    "        if arr == num1:\n",
    "            yes = False\n",
    "            count = 7  # End the game if the user guesses correctly\n",
    "\n",
    "    print(f\"Game is over! {l} attempts\")\n",
    "    count += 1"
   ]
  },
  {
   "cell_type": "markdown",
   "metadata": {},
   "source": [
    "### Level3"
   ]
  },
  {
   "cell_type": "code",
   "execution_count": 50,
   "metadata": {},
   "outputs": [
    {
     "name": "stdout",
     "output_type": "stream",
     "text": [
      "3 is at right place, 0 is not at right place\n",
      "Reveal the  3  number: 6\n",
      "3 is at right place, 0 is not at right place\n",
      "4 is at right place, 0 is not at right place\n",
      "Game is over!\n"
     ]
    }
   ],
   "source": [
    "count= 0\n",
    "flag = 0\n",
    "l = 0\n",
    "while(count<7) :\n",
    "    l+=1\n",
    "    yes = True\n",
    "    while(yes):\n",
    "    \n",
    "        num = (input(\"Enter the num:\"))\n",
    "        num1 = []\n",
    "        for i in num:\n",
    "            num1.append(int(i))\n",
    "        arr1 = []\n",
    "        arr2 = []\n",
    "        for k in range(4):\n",
    "            for l in range(4):\n",
    "                if arr[k]==num1[l]:\n",
    "                    arr2.append(arr[k])\n",
    "                    if k==l:\n",
    "                        # print(arr[k],\"index=\",k,l)\n",
    "                        arr1.append(arr[k])\n",
    "        \n",
    "        print(len(arr1),\"is at right place,\",len(arr2)-len(arr1), \"is not at right place\")\n",
    "        if arr==num1:\n",
    "            yes = False\n",
    "            count = 7\n",
    "        elif flag == 0:\n",
    "            u= input(\"Do you want a lifeline y/n:\")\n",
    "            if u == 'y':\n",
    "                n = int(input(\"Enter the position of number to reveal(0-3)\"))\n",
    "                print(\"Reveal the \",n,\" number:\",arr[n])\n",
    "            flag = 1\n",
    "    \n",
    "    print(f\"Game is over! {l} attempts\")\n",
    "    count+=1"
   ]
  },
  {
   "cell_type": "markdown",
   "metadata": {},
   "source": [
    "### Level4"
   ]
  },
  {
   "cell_type": "code",
   "execution_count": 7,
   "metadata": {},
   "outputs": [],
   "source": [
    "num = (input(\"Enter the num:\"))\n",
    "num1 = []\n",
    "for i in num:\n",
    "    num1.append(int(i))"
   ]
  },
  {
   "cell_type": "code",
   "execution_count": 8,
   "metadata": {},
   "outputs": [],
   "source": [
    "\n",
    "count = True\n",
    "while(count):   \n",
    "    set1 = set()\n",
    "    arr = []\n",
    "    for i in range(1,6):\n",
    "        num_count = random.randint(1, 9)  # Generate a random number of unique numbers\n",
    "        set1.add(num_count)\n",
    "\n",
    "    arr = list(set1)\n",
    "    \n",
    "    if len(arr)==len(num1):\n",
    "        count=False\n"
   ]
  },
  {
   "cell_type": "code",
   "execution_count": 9,
   "metadata": {},
   "outputs": [
    {
     "data": {
      "text/plain": [
       "[3, 6, 7, 8, 9]"
      ]
     },
     "execution_count": 9,
     "metadata": {},
     "output_type": "execute_result"
    }
   ],
   "source": [
    "arr"
   ]
  },
  {
   "cell_type": "code",
   "execution_count": 10,
   "metadata": {},
   "outputs": [
    {
     "name": "stdout",
     "output_type": "stream",
     "text": [
      "0 is at right place, 1 is not at right place\n",
      "5 is at right place, 0 is not at right place\n",
      "Game is over!\n"
     ]
    }
   ],
   "source": [
    "yes = True\n",
    "l = 0\n",
    "while(yes):\n",
    "    l+=1\n",
    "    num = (input(\"Enter the num:\"))\n",
    "    num1 = []\n",
    "    for i in num:\n",
    "        num1.append(int(i))\n",
    "    \n",
    "    arr1 = []\n",
    "\n",
    "    arr2 = []\n",
    "    for k in range(5):\n",
    "        for l in range(5):\n",
    "            if arr[k]==num1[l]:\n",
    "                arr2.append(arr[k])\n",
    "                if k==l:\n",
    "                    # print(arr[k],\"index=\",k,l)\n",
    "                    arr1.append(arr[k])\n",
    "\n",
    "    print(len(arr1),\"is at right place,\",len(arr2)-len(arr1), \"is not at right place\")\n",
    "    if arr==num1:\n",
    "        yes = False\n",
    "print(f\"Game is over! {l} attempts\")"
   ]
  },
  {
   "cell_type": "markdown",
   "metadata": {},
   "source": [
    "### Level5"
   ]
  },
  {
   "cell_type": "code",
   "execution_count": 11,
   "metadata": {},
   "outputs": [],
   "source": []
  },
  {
   "cell_type": "code",
   "execution_count": 10,
   "metadata": {},
   "outputs": [
    {
     "name": "stdout",
     "output_type": "stream",
     "text": [
      "[2, 2, 6, 3]\n"
     ]
    }
   ],
   "source": [
    "\n",
    "arr = []\n",
    "for i in range(1,5):\n",
    "    num_count = random.randint(1, 9)  # Generate a random number of unique numbers\n",
    "    arr.append(num_count)\n",
    "\n",
    "print(arr)"
   ]
  },
  {
   "cell_type": "code",
   "execution_count": 13,
   "metadata": {},
   "outputs": [
    {
     "name": "stdout",
     "output_type": "stream",
     "text": [
      "1 is at right place, 3 is not at right place\n",
      "4 is at right place, 0 is not at right place\n",
      "Game is over! 2 attempts\n"
     ]
    }
   ],
   "source": [
    "yes = True\n",
    "l = 0\n",
    "while(yes):\n",
    "    l+=1\n",
    "    num = (input(\"Enter the num:\"))\n",
    "    num1 = []\n",
    "    for i in num:\n",
    "        num1.append(int(i))\n",
    "    \n",
    "    arr1 = []\n",
    "    arr2 = []\n",
    "    for k in range(4):\n",
    "        for l in range(4):\n",
    "            if arr[k]==num1[l]:\n",
    "                arr2.append(arr[k])\n",
    "                if k==l:\n",
    "                    # print(arr[k],\"index=\",k,l)\n",
    "                    arr1.append(arr[k])\n",
    "    \n",
    "    if arr==num1:\n",
    "        yes = False\n",
    "        print(len(arr1),\"is at right place,\",len(arr2)-len(arr2), \"is not at right place\")\n",
    "    else:\n",
    "        print(len(arr1),\"is at right place,\",len(arr2)-len(arr1), \"is not at right place\")\n",
    "print(f\"Game is over! {l-1} attempts\")"
   ]
  },
  {
   "cell_type": "markdown",
   "metadata": {},
   "source": [
    "### Level6"
   ]
  },
  {
   "cell_type": "code",
   "execution_count": 1,
   "metadata": {},
   "outputs": [],
   "source": [
    "import numpy as np\n",
    "import random\n",
    "np.random.seed(42)\n",
    "\n"
   ]
  },
  {
   "cell_type": "code",
   "execution_count": 8,
   "metadata": {},
   "outputs": [
    {
     "name": "stdout",
     "output_type": "stream",
     "text": [
      "[8, 4, 5, 6]\n",
      "2 is at right place, 0 is not at right place\n",
      "1 is at right place, 1 is not at right place\n",
      "4 is at right place, 0 is not at right place\n",
      "Game is over! 3 attempts\n",
      "[9, 4, 6, 7]\n",
      "0 is at right place, 1 is not at right place\n",
      "4 is at right place, 0 is not at right place\n",
      "Game is over! 3 attempts\n",
      "3\n"
     ]
    }
   ],
   "source": [
    "r=True\n",
    "\n",
    "while(r): \n",
    "    # num = (input(\"Enter the num:\"))\n",
    "    num1 = [1,1,1,1]\n",
    "    # for i in num:\n",
    "    #     num1.append(int(i))\n",
    "    count = True\n",
    "    while(count):   \n",
    "        set1 = set()\n",
    "        arr = []\n",
    "        for i in range(1,6):\n",
    "            num_count = random.randint(1, 9)  # Generate a random number of unique numbers\n",
    "            set1.add(num_count)\n",
    "\n",
    "        arr = list(set1)\n",
    "        \n",
    "        if len(arr)==len(num1):\n",
    "            count=False\n",
    "    print(arr)\n",
    "    yes = True\n",
    "    l=0\n",
    "    while(yes):\n",
    "        l+=1\n",
    "        num = (input(\"Enter the num:\"))\n",
    "        num1 = []\n",
    "        for i in num:\n",
    "            num1.append(int(i))\n",
    "        \n",
    "        arr1 = []\n",
    "        arr2 = []\n",
    "        for k in range(4):\n",
    "            for l in range(4):\n",
    "                if arr[k]==num1[l]:\n",
    "                    arr2.append(arr[k])\n",
    "                    if k==l:\n",
    "                        # print(arr[k],\"index=\",k,l)\n",
    "                        arr1.append(arr[k])\n",
    "\n",
    "        print(len(arr1),\"is at right place,\",len(arr2)-len(arr1), \"is not at right place\")\n",
    "        if arr==num1:\n",
    "            yes = False\n",
    "        \n",
    "    print(f\"Game is over! {l} attempts\")\n",
    "    score=[]\n",
    "    t=input(\"do you want to play more y/n\")\n",
    "    if t=='y':\n",
    "        score.append(l)\n",
    "    else:\n",
    "        score.append(l)\n",
    "        print(min(score))\n",
    "        r = False\n",
    "        \n",
    "\n"
   ]
  },
  {
   "cell_type": "code",
   "execution_count": null,
   "metadata": {},
   "outputs": [],
   "source": []
  }
 ],
 "metadata": {
  "kernelspec": {
   "display_name": "base",
   "language": "python",
   "name": "python3"
  },
  "language_info": {
   "codemirror_mode": {
    "name": "ipython",
    "version": 3
   },
   "file_extension": ".py",
   "mimetype": "text/x-python",
   "name": "python",
   "nbconvert_exporter": "python",
   "pygments_lexer": "ipython3",
   "version": "3.12.4"
  }
 },
 "nbformat": 4,
 "nbformat_minor": 2
}
