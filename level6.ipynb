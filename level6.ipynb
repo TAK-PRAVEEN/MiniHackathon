{
 "cells": [
  {
   "cell_type": "code",
   "execution_count": 1,
   "metadata": {},
   "outputs": [],
   "source": [
    "import numpy as np\n",
    "import random\n",
    "np.random.seed(42)\n",
    "\n"
   ]
  },
  {
   "cell_type": "code",
   "execution_count": 3,
   "metadata": {},
   "outputs": [],
   "source": [
    "num = (input(\"Enter the num:\"))\n",
    "num1 = []\n",
    "for i in num:\n",
    "    num1.append(int(i))"
   ]
  },
  {
   "cell_type": "code",
   "execution_count": 4,
   "metadata": {},
   "outputs": [],
   "source": [
    "\n",
    "count = True\n",
    "while(count):   \n",
    "    set1 = set()\n",
    "    arr = []\n",
    "    for i in range(1,5):\n",
    "        num_count = random.randint(1, 9)  # Generate a random number of unique numbers\n",
    "        set1.add(num_count)\n",
    "\n",
    "    arr = list(set1)\n",
    "    \n",
    "    if len(arr)==len(num1):\n",
    "        count=False\n"
   ]
  },
  {
   "cell_type": "code",
   "execution_count": 5,
   "metadata": {},
   "outputs": [
    {
     "data": {
      "text/plain": [
       "[8, 1, 5, 6]"
      ]
     },
     "execution_count": 5,
     "metadata": {},
     "output_type": "execute_result"
    }
   ],
   "source": [
    "arr"
   ]
  },
  {
   "cell_type": "markdown",
   "metadata": {},
   "source": [
    "### Level6"
   ]
  },
  {
   "cell_type": "code",
   "execution_count": 14,
   "metadata": {},
   "outputs": [
    {
     "name": "stdout",
     "output_type": "stream",
     "text": [
      "[3, 4, 5, 6]\n",
      "1 is at right place, 2 is not at right place\n",
      "0 is at right place, 2 is not at right place\n",
      "4 is at right place, 0 is not at right place\n",
      "Game is over!\n"
     ]
    },
    {
     "ename": "AttributeError",
     "evalue": "'dict' object has no attribute 'append'",
     "output_type": "error",
     "traceback": [
      "\u001b[1;31m---------------------------------------------------------------------------\u001b[0m",
      "\u001b[1;31mAttributeError\u001b[0m                            Traceback (most recent call last)",
      "Cell \u001b[1;32mIn[14], line 52\u001b[0m\n\u001b[0;32m     50\u001b[0m t\u001b[38;5;241m=\u001b[39m\u001b[38;5;28minput\u001b[39m(\u001b[38;5;124m\"\u001b[39m\u001b[38;5;124mdo you want to play more y/n\u001b[39m\u001b[38;5;124m\"\u001b[39m)\n\u001b[0;32m     51\u001b[0m \u001b[38;5;28;01mif\u001b[39;00m t\u001b[38;5;241m==\u001b[39m\u001b[38;5;124m'\u001b[39m\u001b[38;5;124my\u001b[39m\u001b[38;5;124m'\u001b[39m:\n\u001b[1;32m---> 52\u001b[0m     \u001b[43mscore\u001b[49m\u001b[38;5;241;43m.\u001b[39;49m\u001b[43mappend\u001b[49m(l)\n\u001b[0;32m     53\u001b[0m \u001b[38;5;28;01melse\u001b[39;00m:\n\u001b[0;32m     54\u001b[0m     score\u001b[38;5;241m.\u001b[39mappend(l)\n",
      "\u001b[1;31mAttributeError\u001b[0m: 'dict' object has no attribute 'append'"
     ]
    }
   ],
   "source": [
    "r=True\n",
    "score=[]\n",
    "az=[]\n",
    "\n",
    "while(r): \n",
    "    # num = (input(\"Enter the num:\"))\n",
    "    num1 = [1,1,1,1]\n",
    "    # for i in num:\n",
    "    #     num1.append(int(i))\n",
    "    count = True\n",
    "    while(count):   \n",
    "        set1 = set()\n",
    "        arr = []\n",
    "        for i in range(1,6):\n",
    "            num_count = random.randint(1, 9)  # Generate a random number of unique numbers\n",
    "            set1.add(num_count)\n",
    "\n",
    "        arr = list(set1)\n",
    "        \n",
    "        if len(arr)==len(num1):\n",
    "            count=False\n",
    "    print(arr)\n",
    "    yes = True\n",
    "    l=0\n",
    "    while(yes):\n",
    "        l+=1\n",
    "        num = (input(\"Enter the num:\"))\n",
    "        num1 = []\n",
    "        for i in num:\n",
    "            num1.append(int(i))\n",
    "        \n",
    "        arr1 = []\n",
    "        arr2 = []\n",
    "        for k in range(4):\n",
    "            for l in range(4):\n",
    "                if arr[k]==num1[l]:\n",
    "                    arr2.append(arr[k])\n",
    "                    if k==l:\n",
    "                        # print(arr[k],\"index=\",k,l)\n",
    "                        arr1.append(arr[k])\n",
    "\n",
    "        print(len(arr1),\"is at right place,\",len(arr2)-len(arr1), \"is not at right place\")\n",
    "        if arr==num1:\n",
    "            yes = False\n",
    "        \n",
    "    print(f\"Game is over!\")\n",
    "    \n",
    "  \n",
    "\n",
    "    t=input(\"do you want to play more y/n\")\n",
    "    if t=='y':\n",
    "        score.append(l)\n",
    "    else:\n",
    "        score.append(l)\n",
    "        print(min(score))\n",
    "        r = False\n",
    "  \n",
    "        \n",
    "\n"
   ]
  },
  {
   "cell_type": "code",
   "execution_count": null,
   "metadata": {},
   "outputs": [],
   "source": []
  }
 ],
 "metadata": {
  "kernelspec": {
   "display_name": "base",
   "language": "python",
   "name": "python3"
  },
  "language_info": {
   "codemirror_mode": {
    "name": "ipython",
    "version": 3
   },
   "file_extension": ".py",
   "mimetype": "text/x-python",
   "name": "python",
   "nbconvert_exporter": "python",
   "pygments_lexer": "ipython3",
   "version": "3.12.4"
  }
 },
 "nbformat": 4,
 "nbformat_minor": 2
}
