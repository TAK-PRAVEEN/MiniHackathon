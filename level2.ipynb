{
 "cells": [
  {
   "cell_type": "code",
   "execution_count": 1,
   "metadata": {},
   "outputs": [],
   "source": [
    "import numpy as np\n",
    "import random\n",
    "np.random.seed(42)\n",
    "\n"
   ]
  },
  {
   "cell_type": "code",
   "execution_count": 2,
   "metadata": {},
   "outputs": [],
   "source": [
    "num1 = [0,0,0,0]"
   ]
  },
  {
   "cell_type": "code",
   "execution_count": 3,
   "metadata": {},
   "outputs": [],
   "source": [
    "\n",
    "count = True\n",
    "while(count):   \n",
    "    set1 = set()\n",
    "    arr = []\n",
    "    for i in range(1,5):\n",
    "        num_count = random.randint(1, 9)  # Generate a random number of unique numbers\n",
    "        set1.add(num_count)\n",
    "\n",
    "    arr = list(set1)\n",
    "    \n",
    "    if len(arr)==len(num1):\n",
    "        count=False\n"
   ]
  },
  {
   "cell_type": "code",
   "execution_count": 4,
   "metadata": {},
   "outputs": [
    {
     "data": {
      "text/plain": [
       "[8, 1, 4, 7]"
      ]
     },
     "execution_count": 4,
     "metadata": {},
     "output_type": "execute_result"
    }
   ],
   "source": [
    "arr"
   ]
  },
  {
   "cell_type": "markdown",
   "metadata": {},
   "source": [
    "### Level2"
   ]
  },
  {
   "cell_type": "code",
   "execution_count": 5,
   "metadata": {},
   "outputs": [
    {
     "name": "stdout",
     "output_type": "stream",
     "text": [
      "0 is at right place, 0 is not at right place\n",
      "4 is at right place, 0 is not at right place\n",
      "Game is over! 3 attempts\n"
     ]
    }
   ],
   "source": [
    "count= 0\n",
    "l = 0\n",
    "while(count<7) :\n",
    "    l+=1\n",
    "    yes = True\n",
    "    while(yes):\n",
    "    \n",
    "        num = (input(\"Enter the num:\"))\n",
    "        num1 = []\n",
    "        for i in num:\n",
    "            num1.append(int(i))\n",
    "        arr1 = []\n",
    "        arr2 = []\n",
    "        for k in range(4):\n",
    "            for l in range(4):\n",
    "                if arr[k]==num1[l]:\n",
    "                    arr2.append(arr[k])\n",
    "                    if k==l:\n",
    "                        # print(arr[k],\"index=\",k,l)\n",
    "                        arr1.append(arr[k])\n",
    "\n",
    "        print(len(arr1),\"is at right place,\",len(arr2)-len(arr1), \"is not at right place\")\n",
    "        if arr==num1:\n",
    "            yes = False\n",
    "            count = 7\n",
    "    print(f\"Game is over! {l-1} attempts\")\n",
    "    count+=1\n",
    "\n",
    "\n",
    "    "
   ]
  },
  {
   "cell_type": "markdown",
   "metadata": {},
   "source": [
    "### Level3"
   ]
  },
  {
   "cell_type": "code",
   "execution_count": 50,
   "metadata": {},
   "outputs": [
    {
     "name": "stdout",
     "output_type": "stream",
     "text": [
      "3 is at right place, 0 is not at right place\n",
      "Reveal the  3  number: 6\n",
      "3 is at right place, 0 is not at right place\n",
      "4 is at right place, 0 is not at right place\n",
      "Game is over!\n"
     ]
    }
   ],
   "source": [
    "count= 0\n",
    "flag = 0\n",
    "l = 0\n",
    "while(count<7) :\n",
    "    l+=1\n",
    "    yes = True\n",
    "    while(yes):\n",
    "    \n",
    "        num = (input(\"Enter the num:\"))\n",
    "        num1 = []\n",
    "        for i in num:\n",
    "            num1.append(int(i))\n",
    "        arr1 = []\n",
    "        arr2 = []\n",
    "        for k in range(4):\n",
    "            for l in range(4):\n",
    "                if arr[k]==num1[l]:\n",
    "                    arr2.append(arr[k])\n",
    "                    if k==l:\n",
    "                        # print(arr[k],\"index=\",k,l)\n",
    "                        arr1.append(arr[k])\n",
    "        \n",
    "        print(len(arr1),\"is at right place,\",len(arr2)-len(arr1), \"is not at right place\")\n",
    "        if arr==num1:\n",
    "            yes = False\n",
    "            count = 7\n",
    "        elif flag == 0:\n",
    "            u= input(\"Do you want a lifeline y/n:\")\n",
    "            if u == 'y':\n",
    "                n = int(input(\"Enter the position of number to reveal(0-3)\"))\n",
    "                print(\"Reveal the \",n,\" number:\",arr[n])\n",
    "            flag = 1\n",
    "    \n",
    "    print(f\"Game is over! {l} attempts\")\n",
    "    count+=1"
   ]
  },
  {
   "cell_type": "markdown",
   "metadata": {},
   "source": [
    "### Level4"
   ]
  },
  {
   "cell_type": "code",
   "execution_count": 7,
   "metadata": {},
   "outputs": [],
   "source": [
    "num = (input(\"Enter the num:\"))\n",
    "num1 = []\n",
    "for i in num:\n",
    "    num1.append(int(i))"
   ]
  },
  {
   "cell_type": "code",
   "execution_count": 8,
   "metadata": {},
   "outputs": [],
   "source": [
    "\n",
    "count = True\n",
    "while(count):   \n",
    "    set1 = set()\n",
    "    arr = []\n",
    "    for i in range(1,6):\n",
    "        num_count = random.randint(1, 9)  # Generate a random number of unique numbers\n",
    "        set1.add(num_count)\n",
    "\n",
    "    arr = list(set1)\n",
    "    \n",
    "    if len(arr)==len(num1):\n",
    "        count=False\n"
   ]
  },
  {
   "cell_type": "code",
   "execution_count": 9,
   "metadata": {},
   "outputs": [
    {
     "data": {
      "text/plain": [
       "[3, 6, 7, 8, 9]"
      ]
     },
     "execution_count": 9,
     "metadata": {},
     "output_type": "execute_result"
    }
   ],
   "source": [
    "arr"
   ]
  },
  {
   "cell_type": "code",
   "execution_count": 10,
   "metadata": {},
   "outputs": [
    {
     "name": "stdout",
     "output_type": "stream",
     "text": [
      "0 is at right place, 1 is not at right place\n",
      "5 is at right place, 0 is not at right place\n",
      "Game is over!\n"
     ]
    }
   ],
   "source": [
    "yes = True\n",
    "l = 0\n",
    "while(yes):\n",
    "    l+=1\n",
    "    num = (input(\"Enter the num:\"))\n",
    "    num1 = []\n",
    "    for i in num:\n",
    "        num1.append(int(i))\n",
    "    \n",
    "    arr1 = []\n",
    "\n",
    "    arr2 = []\n",
    "    for k in range(5):\n",
    "        for l in range(5):\n",
    "            if arr[k]==num1[l]:\n",
    "                arr2.append(arr[k])\n",
    "                if k==l:\n",
    "                    # print(arr[k],\"index=\",k,l)\n",
    "                    arr1.append(arr[k])\n",
    "\n",
    "    print(len(arr1),\"is at right place,\",len(arr2)-len(arr1), \"is not at right place\")\n",
    "    if arr==num1:\n",
    "        yes = False\n",
    "print(f\"Game is over! {l} attempts\")"
   ]
  },
  {
   "cell_type": "markdown",
   "metadata": {},
   "source": [
    "### Level5"
   ]
  },
  {
   "cell_type": "code",
   "execution_count": 11,
   "metadata": {},
   "outputs": [],
   "source": []
  },
  {
   "cell_type": "code",
   "execution_count": 10,
   "metadata": {},
   "outputs": [
    {
     "name": "stdout",
     "output_type": "stream",
     "text": [
      "[2, 2, 6, 3]\n"
     ]
    }
   ],
   "source": [
    "\n",
    "arr = []\n",
    "for i in range(1,5):\n",
    "    num_count = random.randint(1, 9)  # Generate a random number of unique numbers\n",
    "    arr.append(num_count)\n",
    "\n",
    "print(arr)"
   ]
  },
  {
   "cell_type": "code",
   "execution_count": 13,
   "metadata": {},
   "outputs": [
    {
     "name": "stdout",
     "output_type": "stream",
     "text": [
      "1 is at right place, 3 is not at right place\n",
      "4 is at right place, 0 is not at right place\n",
      "Game is over! 2 attempts\n"
     ]
    }
   ],
   "source": [
    "yes = True\n",
    "l = 0\n",
    "while(yes):\n",
    "    l+=1\n",
    "    num = (input(\"Enter the num:\"))\n",
    "    num1 = []\n",
    "    for i in num:\n",
    "        num1.append(int(i))\n",
    "    \n",
    "    arr1 = []\n",
    "    arr2 = []\n",
    "    for k in range(4):\n",
    "        for l in range(4):\n",
    "            if arr[k]==num1[l]:\n",
    "                arr2.append(arr[k])\n",
    "                if k==l:\n",
    "                    # print(arr[k],\"index=\",k,l)\n",
    "                    arr1.append(arr[k])\n",
    "    \n",
    "    if arr==num1:\n",
    "        yes = False\n",
    "        print(len(arr1),\"is at right place,\",len(arr2)-len(arr2), \"is not at right place\")\n",
    "    else:\n",
    "        print(len(arr1),\"is at right place,\",len(arr2)-len(arr1), \"is not at right place\")\n",
    "print(f\"Game is over! {l-1} attempts\")"
   ]
  },
  {
   "cell_type": "markdown",
   "metadata": {},
   "source": [
    "### Level6"
   ]
  },
  {
   "cell_type": "code",
   "execution_count": 1,
   "metadata": {},
   "outputs": [],
   "source": [
    "import numpy as np\n",
    "import random\n",
    "np.random.seed(42)\n",
    "\n"
   ]
  },
  {
   "cell_type": "code",
   "execution_count": 8,
   "metadata": {},
   "outputs": [
    {
     "name": "stdout",
     "output_type": "stream",
     "text": [
      "[8, 4, 5, 6]\n",
      "2 is at right place, 0 is not at right place\n",
      "1 is at right place, 1 is not at right place\n",
      "4 is at right place, 0 is not at right place\n",
      "Game is over! 3 attempts\n",
      "[9, 4, 6, 7]\n",
      "0 is at right place, 1 is not at right place\n",
      "4 is at right place, 0 is not at right place\n",
      "Game is over! 3 attempts\n",
      "3\n"
     ]
    }
   ],
   "source": [
    "r=True\n",
    "\n",
    "while(r): \n",
    "    # num = (input(\"Enter the num:\"))\n",
    "    num1 = [1,1,1,1]\n",
    "    # for i in num:\n",
    "    #     num1.append(int(i))\n",
    "    count = True\n",
    "    while(count):   \n",
    "        set1 = set()\n",
    "        arr = []\n",
    "        for i in range(1,6):\n",
    "            num_count = random.randint(1, 9)  # Generate a random number of unique numbers\n",
    "            set1.add(num_count)\n",
    "\n",
    "        arr = list(set1)\n",
    "        \n",
    "        if len(arr)==len(num1):\n",
    "            count=False\n",
    "    print(arr)\n",
    "    yes = True\n",
    "    l=0\n",
    "    while(yes):\n",
    "        l+=1\n",
    "        num = (input(\"Enter the num:\"))\n",
    "        num1 = []\n",
    "        for i in num:\n",
    "            num1.append(int(i))\n",
    "        \n",
    "        arr1 = []\n",
    "        arr2 = []\n",
    "        for k in range(4):\n",
    "            for l in range(4):\n",
    "                if arr[k]==num1[l]:\n",
    "                    arr2.append(arr[k])\n",
    "                    if k==l:\n",
    "                        # print(arr[k],\"index=\",k,l)\n",
    "                        arr1.append(arr[k])\n",
    "\n",
    "        print(len(arr1),\"is at right place,\",len(arr2)-len(arr1), \"is not at right place\")\n",
    "        if arr==num1:\n",
    "            yes = False\n",
    "        \n",
    "    print(f\"Game is over! {l} attempts\")\n",
    "    score=[]\n",
    "    t=input(\"do you want to play more y/n\")\n",
    "    if t=='y':\n",
    "        score.append(l)\n",
    "    else:\n",
    "        score.append(l)\n",
    "        print(min(score))\n",
    "        r = False\n",
    "        \n",
    "\n"
   ]
  },
  {
   "cell_type": "code",
   "execution_count": null,
   "metadata": {},
   "outputs": [],
   "source": []
  }
 ],
 "metadata": {
  "kernelspec": {
   "display_name": "base",
   "language": "python",
   "name": "python3"
  },
  "language_info": {
   "codemirror_mode": {
    "name": "ipython",
    "version": 3
   },
   "file_extension": ".py",
   "mimetype": "text/x-python",
   "name": "python",
   "nbconvert_exporter": "python",
   "pygments_lexer": "ipython3",
   "version": "3.12.4"
  }
 },
 "nbformat": 4,
 "nbformat_minor": 2
}
